{
 "cells": [
  {
   "cell_type": "code",
   "execution_count": 1,
   "id": "d40d156c",
   "metadata": {},
   "outputs": [],
   "source": [
    "import pandas as pd\n",
    "import numpy as np\n",
    "from sklearn.ensemble import RandomForestClassifier\n",
    "\n",
    "import os\n",
    "from tqdm import tqdm\n",
    "\n",
    "import rasterio\n",
    "from rasterio.windows import Window\n",
    "from pyproj import CRS"
   ]
  },
  {
   "cell_type": "markdown",
   "id": "f1264e84",
   "metadata": {},
   "source": [
    "### Entrenamos un modelo de juguete con el dataset de la clase 11\n",
    "\n",
    "El dataset es el que sale de SampleExtraction, que luego se usa en TrainVectorClassifier.\n",
    "\n",
    "Link: https://storage.googleapis.com/gis2022-teledeteccion/clase11/extra/samples.sqlite\n",
    "\n",
    "Con `ogr2ogr -f \"CSV\" samples.csv samples.sqlite` lo pasan a CSV"
   ]
  },
  {
   "cell_type": "code",
   "execution_count": 2,
   "id": "4d01e3ca",
   "metadata": {},
   "outputs": [
    {
     "data": {
      "text/html": [
       "<div>\n",
       "<style scoped>\n",
       "    .dataframe tbody tr th:only-of-type {\n",
       "        vertical-align: middle;\n",
       "    }\n",
       "\n",
       "    .dataframe tbody tr th {\n",
       "        vertical-align: top;\n",
       "    }\n",
       "\n",
       "    .dataframe thead th {\n",
       "        text-align: right;\n",
       "    }\n",
       "</style>\n",
       "<table border=\"1\" class=\"dataframe\">\n",
       "  <thead>\n",
       "    <tr style=\"text-align: right;\">\n",
       "      <th></th>\n",
       "      <th>in1</th>\n",
       "      <th>id</th>\n",
       "      <th>cultivo</th>\n",
       "      <th>originfid</th>\n",
       "      <th>band_0</th>\n",
       "      <th>band_1</th>\n",
       "      <th>band_2</th>\n",
       "      <th>band_3</th>\n",
       "      <th>band_4</th>\n",
       "      <th>band_5</th>\n",
       "      <th>ratio_1</th>\n",
       "      <th>ratio_2</th>\n",
       "    </tr>\n",
       "  </thead>\n",
       "  <tbody>\n",
       "    <tr>\n",
       "      <th>0</th>\n",
       "      <td>14035</td>\n",
       "      <td>3</td>\n",
       "      <td>MAIZ</td>\n",
       "      <td>409</td>\n",
       "      <td>0.294909</td>\n",
       "      <td>0.291342</td>\n",
       "      <td>0.284329</td>\n",
       "      <td>0.350873</td>\n",
       "      <td>0.282852</td>\n",
       "      <td>0.306162</td>\n",
       "      <td>0.963244</td>\n",
       "      <td>1.042627</td>\n",
       "    </tr>\n",
       "    <tr>\n",
       "      <th>1</th>\n",
       "      <td>14084</td>\n",
       "      <td>1</td>\n",
       "      <td>SOJA</td>\n",
       "      <td>56</td>\n",
       "      <td>0.319566</td>\n",
       "      <td>0.372597</td>\n",
       "      <td>0.377740</td>\n",
       "      <td>0.600653</td>\n",
       "      <td>0.676652</td>\n",
       "      <td>0.260705</td>\n",
       "      <td>1.225777</td>\n",
       "      <td>0.472275</td>\n",
       "    </tr>\n",
       "    <tr>\n",
       "      <th>2</th>\n",
       "      <td>14084</td>\n",
       "      <td>1</td>\n",
       "      <td>SOJA</td>\n",
       "      <td>57</td>\n",
       "      <td>0.333868</td>\n",
       "      <td>0.351675</td>\n",
       "      <td>0.320528</td>\n",
       "      <td>0.557252</td>\n",
       "      <td>0.581662</td>\n",
       "      <td>0.409957</td>\n",
       "      <td>0.814397</td>\n",
       "      <td>0.573989</td>\n",
       "    </tr>\n",
       "    <tr>\n",
       "      <th>3</th>\n",
       "      <td>14084</td>\n",
       "      <td>1</td>\n",
       "      <td>SOJA</td>\n",
       "      <td>59</td>\n",
       "      <td>0.399241</td>\n",
       "      <td>0.377706</td>\n",
       "      <td>0.234728</td>\n",
       "      <td>0.352085</td>\n",
       "      <td>0.541737</td>\n",
       "      <td>0.517532</td>\n",
       "      <td>0.771433</td>\n",
       "      <td>0.736964</td>\n",
       "    </tr>\n",
       "    <tr>\n",
       "      <th>4</th>\n",
       "      <td>14084</td>\n",
       "      <td>2</td>\n",
       "      <td>MAIZ</td>\n",
       "      <td>53</td>\n",
       "      <td>0.372678</td>\n",
       "      <td>0.382177</td>\n",
       "      <td>0.360437</td>\n",
       "      <td>0.475942</td>\n",
       "      <td>0.432502</td>\n",
       "      <td>0.248573</td>\n",
       "      <td>1.499270</td>\n",
       "      <td>0.861679</td>\n",
       "    </tr>\n",
       "  </tbody>\n",
       "</table>\n",
       "</div>"
      ],
      "text/plain": [
       "     in1  id cultivo  originfid    band_0    band_1    band_2    band_3  \\\n",
       "0  14035   3    MAIZ        409  0.294909  0.291342  0.284329  0.350873   \n",
       "1  14084   1    SOJA         56  0.319566  0.372597  0.377740  0.600653   \n",
       "2  14084   1    SOJA         57  0.333868  0.351675  0.320528  0.557252   \n",
       "3  14084   1    SOJA         59  0.399241  0.377706  0.234728  0.352085   \n",
       "4  14084   2    MAIZ         53  0.372678  0.382177  0.360437  0.475942   \n",
       "\n",
       "     band_4    band_5   ratio_1   ratio_2  \n",
       "0  0.282852  0.306162  0.963244  1.042627  \n",
       "1  0.676652  0.260705  1.225777  0.472275  \n",
       "2  0.581662  0.409957  0.814397  0.573989  \n",
       "3  0.541737  0.517532  0.771433  0.736964  \n",
       "4  0.432502  0.248573  1.499270  0.861679  "
      ]
     },
     "execution_count": 2,
     "metadata": {},
     "output_type": "execute_result"
    }
   ],
   "source": [
    "df = pd.read_csv('samples.csv')\n",
    "df['ratio_1'] = df['band_0']/df['band_5']\n",
    "df['ratio_2'] = df['band_0']/df['band_4']\n",
    "df.head()"
   ]
  },
  {
   "cell_type": "code",
   "execution_count": 3,
   "id": "0ea01b24",
   "metadata": {},
   "outputs": [
    {
     "data": {
      "text/html": [
       "<style>#sk-container-id-1 {color: black;background-color: white;}#sk-container-id-1 pre{padding: 0;}#sk-container-id-1 div.sk-toggleable {background-color: white;}#sk-container-id-1 label.sk-toggleable__label {cursor: pointer;display: block;width: 100%;margin-bottom: 0;padding: 0.3em;box-sizing: border-box;text-align: center;}#sk-container-id-1 label.sk-toggleable__label-arrow:before {content: \"▸\";float: left;margin-right: 0.25em;color: #696969;}#sk-container-id-1 label.sk-toggleable__label-arrow:hover:before {color: black;}#sk-container-id-1 div.sk-estimator:hover label.sk-toggleable__label-arrow:before {color: black;}#sk-container-id-1 div.sk-toggleable__content {max-height: 0;max-width: 0;overflow: hidden;text-align: left;background-color: #f0f8ff;}#sk-container-id-1 div.sk-toggleable__content pre {margin: 0.2em;color: black;border-radius: 0.25em;background-color: #f0f8ff;}#sk-container-id-1 input.sk-toggleable__control:checked~div.sk-toggleable__content {max-height: 200px;max-width: 100%;overflow: auto;}#sk-container-id-1 input.sk-toggleable__control:checked~label.sk-toggleable__label-arrow:before {content: \"▾\";}#sk-container-id-1 div.sk-estimator input.sk-toggleable__control:checked~label.sk-toggleable__label {background-color: #d4ebff;}#sk-container-id-1 div.sk-label input.sk-toggleable__control:checked~label.sk-toggleable__label {background-color: #d4ebff;}#sk-container-id-1 input.sk-hidden--visually {border: 0;clip: rect(1px 1px 1px 1px);clip: rect(1px, 1px, 1px, 1px);height: 1px;margin: -1px;overflow: hidden;padding: 0;position: absolute;width: 1px;}#sk-container-id-1 div.sk-estimator {font-family: monospace;background-color: #f0f8ff;border: 1px dotted black;border-radius: 0.25em;box-sizing: border-box;margin-bottom: 0.5em;}#sk-container-id-1 div.sk-estimator:hover {background-color: #d4ebff;}#sk-container-id-1 div.sk-parallel-item::after {content: \"\";width: 100%;border-bottom: 1px solid gray;flex-grow: 1;}#sk-container-id-1 div.sk-label:hover label.sk-toggleable__label {background-color: #d4ebff;}#sk-container-id-1 div.sk-serial::before {content: \"\";position: absolute;border-left: 1px solid gray;box-sizing: border-box;top: 0;bottom: 0;left: 50%;z-index: 0;}#sk-container-id-1 div.sk-serial {display: flex;flex-direction: column;align-items: center;background-color: white;padding-right: 0.2em;padding-left: 0.2em;position: relative;}#sk-container-id-1 div.sk-item {position: relative;z-index: 1;}#sk-container-id-1 div.sk-parallel {display: flex;align-items: stretch;justify-content: center;background-color: white;position: relative;}#sk-container-id-1 div.sk-item::before, #sk-container-id-1 div.sk-parallel-item::before {content: \"\";position: absolute;border-left: 1px solid gray;box-sizing: border-box;top: 0;bottom: 0;left: 50%;z-index: -1;}#sk-container-id-1 div.sk-parallel-item {display: flex;flex-direction: column;z-index: 1;position: relative;background-color: white;}#sk-container-id-1 div.sk-parallel-item:first-child::after {align-self: flex-end;width: 50%;}#sk-container-id-1 div.sk-parallel-item:last-child::after {align-self: flex-start;width: 50%;}#sk-container-id-1 div.sk-parallel-item:only-child::after {width: 0;}#sk-container-id-1 div.sk-dashed-wrapped {border: 1px dashed gray;margin: 0 0.4em 0.5em 0.4em;box-sizing: border-box;padding-bottom: 0.4em;background-color: white;}#sk-container-id-1 div.sk-label label {font-family: monospace;font-weight: bold;display: inline-block;line-height: 1.2em;}#sk-container-id-1 div.sk-label-container {text-align: center;}#sk-container-id-1 div.sk-container {/* jupyter's `normalize.less` sets `[hidden] { display: none; }` but bootstrap.min.css set `[hidden] { display: none !important; }` so we also need the `!important` here to be able to override the default hidden behavior on the sphinx rendered scikit-learn.org. See: https://github.com/scikit-learn/scikit-learn/issues/21755 */display: inline-block !important;position: relative;}#sk-container-id-1 div.sk-text-repr-fallback {display: none;}</style><div id=\"sk-container-id-1\" class=\"sk-top-container\"><div class=\"sk-text-repr-fallback\"><pre>RandomForestClassifier(max_depth=5, random_state=0)</pre><b>In a Jupyter environment, please rerun this cell to show the HTML representation or trust the notebook. <br />On GitHub, the HTML representation is unable to render, please try loading this page with nbviewer.org.</b></div><div class=\"sk-container\" hidden><div class=\"sk-item\"><div class=\"sk-estimator sk-toggleable\"><input class=\"sk-toggleable__control sk-hidden--visually\" id=\"sk-estimator-id-1\" type=\"checkbox\" checked><label for=\"sk-estimator-id-1\" class=\"sk-toggleable__label sk-toggleable__label-arrow\">RandomForestClassifier</label><div class=\"sk-toggleable__content\"><pre>RandomForestClassifier(max_depth=5, random_state=0)</pre></div></div></div></div></div>"
      ],
      "text/plain": [
       "RandomForestClassifier(max_depth=5, random_state=0)"
      ]
     },
     "execution_count": 3,
     "metadata": {},
     "output_type": "execute_result"
    }
   ],
   "source": [
    "X = df[['band_0','band_1','band_2','band_3','band_4','band_5', 'ratio_1', 'ratio_2']]\n",
    "y = df['id']\n",
    "\n",
    "clf = RandomForestClassifier(max_depth=5, random_state=0)\n",
    "clf.fit(X, y)"
   ]
  },
  {
   "cell_type": "markdown",
   "id": "9ca79b7b",
   "metadata": {},
   "source": [
    "### Se lo aplicamos a la imagen\n",
    "\n",
    "La imagen se encuentra en https://storage.googleapis.com/gis2022-teledeteccion/clase11/extra/input_merge.tif\n",
    "\n",
    "`wget https://storage.googleapis.com/gis2022-teledeteccion/clase11/extra/input_merge.tif`"
   ]
  },
  {
   "cell_type": "code",
   "execution_count": 4,
   "id": "14a214dc",
   "metadata": {},
   "outputs": [],
   "source": [
    "tile = 'input_merge.tif'"
   ]
  },
  {
   "cell_type": "markdown",
   "id": "8fdec305",
   "metadata": {},
   "source": [
    "#### Funciones auxiliares"
   ]
  },
  {
   "cell_type": "code",
   "execution_count": 5,
   "id": "769f0577",
   "metadata": {},
   "outputs": [],
   "source": [
    "def metadata_from_tile(in_raster):\n",
    "    with rasterio.open(in_raster) as src:\n",
    "        return(src.width, src.height, src.transform)\n",
    "\n",
    "def sliding_windows(size, step_size, width, height, whole=False):\n",
    "    \"\"\"Slide a window of +size+ by moving it +step_size+ pixels\"\"\"\n",
    "    w, h = size, size\n",
    "    sw, sh = step_size, step_size\n",
    "    end_i = height - h if whole else height\n",
    "    end_j = width - w if whole else width\n",
    "    for pos_i, i in enumerate(range(0, end_i, sh)):\n",
    "        for pos_j, j in enumerate(range(0, end_j, sw)):\n",
    "            real_w = w if whole else min(w, abs(width - j))\n",
    "            real_h = h if whole else min(h, abs(height - i))\n",
    "            yield Window(j, i, real_w, real_h), (pos_i, pos_j)"
   ]
  },
  {
   "cell_type": "code",
   "execution_count": 6,
   "id": "5c647608",
   "metadata": {},
   "outputs": [],
   "source": [
    "width, height, transform = metadata_from_tile(tile)\n",
    "windows = sliding_windows(100, 100, width, height)"
   ]
  },
  {
   "cell_type": "code",
   "execution_count": 7,
   "id": "167e00d1",
   "metadata": {},
   "outputs": [
    {
     "data": {
      "text/plain": [
       "(3316,\n",
       " 8653,\n",
       " Affine(0.0001796630568239043, 0.0, -62.86392391962729,\n",
       "        0.0, -0.0001796630568239043, -33.815102577054326))"
      ]
     },
     "execution_count": 7,
     "metadata": {},
     "output_type": "execute_result"
    }
   ],
   "source": [
    "width, height, transform"
   ]
  },
  {
   "cell_type": "markdown",
   "id": "9d5c1e3a",
   "metadata": {},
   "source": [
    "#### Ejemplo para una window cualquiera"
   ]
  },
  {
   "cell_type": "code",
   "execution_count": 8,
   "id": "a5212cc5",
   "metadata": {},
   "outputs": [],
   "source": [
    "window = list(windows)[1400]"
   ]
  },
  {
   "cell_type": "code",
   "execution_count": 9,
   "id": "f788ad07",
   "metadata": {},
   "outputs": [
    {
     "data": {
      "text/html": [
       "<div>\n",
       "<style scoped>\n",
       "    .dataframe tbody tr th:only-of-type {\n",
       "        vertical-align: middle;\n",
       "    }\n",
       "\n",
       "    .dataframe tbody tr th {\n",
       "        vertical-align: top;\n",
       "    }\n",
       "\n",
       "    .dataframe thead th {\n",
       "        text-align: right;\n",
       "    }\n",
       "</style>\n",
       "<table border=\"1\" class=\"dataframe\">\n",
       "  <thead>\n",
       "    <tr style=\"text-align: right;\">\n",
       "      <th></th>\n",
       "      <th>band_0</th>\n",
       "      <th>band_1</th>\n",
       "      <th>band_2</th>\n",
       "      <th>band_3</th>\n",
       "      <th>band_4</th>\n",
       "      <th>band_5</th>\n",
       "      <th>ratio_1</th>\n",
       "      <th>ratio_2</th>\n",
       "    </tr>\n",
       "  </thead>\n",
       "  <tbody>\n",
       "    <tr>\n",
       "      <th>0</th>\n",
       "      <td>0.367403</td>\n",
       "      <td>0.371982</td>\n",
       "      <td>0.495812</td>\n",
       "      <td>0.342274</td>\n",
       "      <td>0.456534</td>\n",
       "      <td>0.368658</td>\n",
       "      <td>0.996596</td>\n",
       "      <td>0.804766</td>\n",
       "    </tr>\n",
       "    <tr>\n",
       "      <th>1</th>\n",
       "      <td>0.382199</td>\n",
       "      <td>0.383686</td>\n",
       "      <td>0.495812</td>\n",
       "      <td>0.345412</td>\n",
       "      <td>0.490427</td>\n",
       "      <td>0.381339</td>\n",
       "      <td>1.002254</td>\n",
       "      <td>0.779319</td>\n",
       "    </tr>\n",
       "    <tr>\n",
       "      <th>2</th>\n",
       "      <td>0.373443</td>\n",
       "      <td>0.380242</td>\n",
       "      <td>0.494694</td>\n",
       "      <td>0.357949</td>\n",
       "      <td>0.470606</td>\n",
       "      <td>0.367226</td>\n",
       "      <td>1.016930</td>\n",
       "      <td>0.793537</td>\n",
       "    </tr>\n",
       "    <tr>\n",
       "      <th>3</th>\n",
       "      <td>0.376706</td>\n",
       "      <td>0.377904</td>\n",
       "      <td>0.435837</td>\n",
       "      <td>0.312673</td>\n",
       "      <td>0.481719</td>\n",
       "      <td>0.364336</td>\n",
       "      <td>1.033953</td>\n",
       "      <td>0.782004</td>\n",
       "    </tr>\n",
       "    <tr>\n",
       "      <th>4</th>\n",
       "      <td>0.381546</td>\n",
       "      <td>0.380462</td>\n",
       "      <td>0.453426</td>\n",
       "      <td>0.317450</td>\n",
       "      <td>0.473962</td>\n",
       "      <td>0.338122</td>\n",
       "      <td>1.128426</td>\n",
       "      <td>0.805015</td>\n",
       "    </tr>\n",
       "    <tr>\n",
       "      <th>...</th>\n",
       "      <td>...</td>\n",
       "      <td>...</td>\n",
       "      <td>...</td>\n",
       "      <td>...</td>\n",
       "      <td>...</td>\n",
       "      <td>...</td>\n",
       "      <td>...</td>\n",
       "      <td>...</td>\n",
       "    </tr>\n",
       "    <tr>\n",
       "      <th>9995</th>\n",
       "      <td>0.249314</td>\n",
       "      <td>0.270202</td>\n",
       "      <td>0.256313</td>\n",
       "      <td>0.574499</td>\n",
       "      <td>0.616349</td>\n",
       "      <td>0.395085</td>\n",
       "      <td>0.631039</td>\n",
       "      <td>0.404501</td>\n",
       "    </tr>\n",
       "    <tr>\n",
       "      <th>9996</th>\n",
       "      <td>0.247663</td>\n",
       "      <td>0.267347</td>\n",
       "      <td>0.279493</td>\n",
       "      <td>0.608434</td>\n",
       "      <td>0.650614</td>\n",
       "      <td>0.402501</td>\n",
       "      <td>0.615309</td>\n",
       "      <td>0.380660</td>\n",
       "    </tr>\n",
       "    <tr>\n",
       "      <th>9997</th>\n",
       "      <td>0.231855</td>\n",
       "      <td>0.262623</td>\n",
       "      <td>0.284219</td>\n",
       "      <td>0.603604</td>\n",
       "      <td>0.639775</td>\n",
       "      <td>0.408507</td>\n",
       "      <td>0.567567</td>\n",
       "      <td>0.362401</td>\n",
       "    </tr>\n",
       "    <tr>\n",
       "      <th>9998</th>\n",
       "      <td>0.247257</td>\n",
       "      <td>0.278644</td>\n",
       "      <td>0.300000</td>\n",
       "      <td>0.613406</td>\n",
       "      <td>0.635927</td>\n",
       "      <td>0.407027</td>\n",
       "      <td>0.607471</td>\n",
       "      <td>0.388813</td>\n",
       "    </tr>\n",
       "    <tr>\n",
       "      <th>9999</th>\n",
       "      <td>0.252804</td>\n",
       "      <td>0.284782</td>\n",
       "      <td>0.296529</td>\n",
       "      <td>0.583333</td>\n",
       "      <td>0.641618</td>\n",
       "      <td>0.413655</td>\n",
       "      <td>0.611147</td>\n",
       "      <td>0.394010</td>\n",
       "    </tr>\n",
       "  </tbody>\n",
       "</table>\n",
       "<p>10000 rows × 8 columns</p>\n",
       "</div>"
      ],
      "text/plain": [
       "        band_0    band_1    band_2    band_3    band_4    band_5   ratio_1  \\\n",
       "0     0.367403  0.371982  0.495812  0.342274  0.456534  0.368658  0.996596   \n",
       "1     0.382199  0.383686  0.495812  0.345412  0.490427  0.381339  1.002254   \n",
       "2     0.373443  0.380242  0.494694  0.357949  0.470606  0.367226  1.016930   \n",
       "3     0.376706  0.377904  0.435837  0.312673  0.481719  0.364336  1.033953   \n",
       "4     0.381546  0.380462  0.453426  0.317450  0.473962  0.338122  1.128426   \n",
       "...        ...       ...       ...       ...       ...       ...       ...   \n",
       "9995  0.249314  0.270202  0.256313  0.574499  0.616349  0.395085  0.631039   \n",
       "9996  0.247663  0.267347  0.279493  0.608434  0.650614  0.402501  0.615309   \n",
       "9997  0.231855  0.262623  0.284219  0.603604  0.639775  0.408507  0.567567   \n",
       "9998  0.247257  0.278644  0.300000  0.613406  0.635927  0.407027  0.607471   \n",
       "9999  0.252804  0.284782  0.296529  0.583333  0.641618  0.413655  0.611147   \n",
       "\n",
       "       ratio_2  \n",
       "0     0.804766  \n",
       "1     0.779319  \n",
       "2     0.793537  \n",
       "3     0.782004  \n",
       "4     0.805015  \n",
       "...        ...  \n",
       "9995  0.404501  \n",
       "9996  0.380660  \n",
       "9997  0.362401  \n",
       "9998  0.388813  \n",
       "9999  0.394010  \n",
       "\n",
       "[10000 rows x 8 columns]"
      ]
     },
     "execution_count": 9,
     "metadata": {},
     "output_type": "execute_result"
    }
   ],
   "source": [
    "#leemos esa parte de la imagen y creamos las bandas según se crearon para el modelo original\n",
    "src = rasterio.open(tile)\n",
    "img = src.read(window=window[0]) \n",
    "r,m,n = img.shape\n",
    "img_df = pd.DataFrame(img.reshape(r,m*n)).T.fillna(-99)\n",
    "bands = ['band_0','band_1','band_2','band_3','band_4','band_5']\n",
    "img_df.columns = bands\n",
    "img_df['ratio_1'] = img_df['band_0']/img_df['band_5']\n",
    "img_df['ratio_2'] = img_df['band_0']/img_df['band_4']\n",
    "img_df"
   ]
  },
  {
   "cell_type": "code",
   "execution_count": 10,
   "id": "691fa6c5",
   "metadata": {},
   "outputs": [
    {
     "data": {
      "text/plain": [
       "(1, 100, 100)"
      ]
     },
     "execution_count": 10,
     "metadata": {},
     "output_type": "execute_result"
    }
   ],
   "source": [
    "res = clf.predict(img_df).astype(np.float64)\n",
    "res = np.expand_dims(res.reshape(n,m), axis=0)\n",
    "res.shape"
   ]
  },
  {
   "cell_type": "markdown",
   "id": "ef0f69d4",
   "metadata": {},
   "source": [
    "Pasemos este procedimiento a una función para que sea más cómodo. Recordar agregar todas las combinaciones de bandas y procedimientos que apliquemos sobre el dataset de entrada al modelo."
   ]
  },
  {
   "cell_type": "code",
   "execution_count": 11,
   "id": "d45b65c5",
   "metadata": {},
   "outputs": [],
   "source": [
    "def create_windowed_dataset(in_raster, window, bands_list):\n",
    "    img_df = pd.DataFrame()\n",
    "    src = rasterio.open(in_raster)\n",
    "    img = src.read(window=window)\n",
    "    r,m,n = img.shape\n",
    "    img_df = pd.DataFrame(img.reshape(r,m*n)).T\n",
    "    img_df.columns = bands_list\n",
    "    img_df['ratio_1'] = img_df['band_0']/img_df['band_5']\n",
    "    img_df['ratio_2'] = img_df['band_0']/img_df['band_4']\n",
    "    img_df = img_df.replace([np.inf, -np.inf], np.nan).fillna(-99)\n",
    "    return(img_df)"
   ]
  },
  {
   "cell_type": "markdown",
   "id": "fad68e02",
   "metadata": {},
   "source": [
    "## Aplicamos para toda el área del tile de entrada"
   ]
  },
  {
   "cell_type": "code",
   "execution_count": 12,
   "id": "24e1b365",
   "metadata": {},
   "outputs": [
    {
     "name": "stderr",
     "output_type": "stream",
     "text": [
      "2958it [02:13, 22.09it/s]\n"
     ]
    }
   ],
   "source": [
    "width, height, transform = metadata_from_tile(tile)\n",
    "bands = ['band_0','band_1','band_2','band_3','band_4','band_5']\n",
    "#agrandar si tienen mas memoria, corre un poco mas rapido pero ojo que se pueden distorsionar los bordes\n",
    "windows = sliding_windows(100, 100, width, height)\n",
    "os.makedirs('./predictions/', exist_ok=True)\n",
    "out_raster = f'./predictions/{tile}'\n",
    "with rasterio.open(out_raster, 'w', driver='GTiff', count=1, width=width, height=height, dtype=np.float64, transform=transform, crs=CRS.from_epsg(4326), compress='lzw'\n",
    ") as dst:\n",
    "    for window, _ in tqdm(windows):           \n",
    "        img_df = create_windowed_dataset(tile, window, bands)\n",
    "        n_bands = img_df.shape[1]\n",
    "        r,m,n = (n_bands, window.width, window.height)\n",
    "        #clf es el clasificador que entrenamos antes\n",
    "        res = clf.predict(img_df).astype(np.float64)\n",
    "        res = np.expand_dims(res.reshape(m,n), axis=0)\n",
    "        dst.write(res, window=window)"
   ]
  },
  {
   "cell_type": "code",
   "execution_count": 13,
   "id": "88b3007f",
   "metadata": {},
   "outputs": [
    {
     "data": {
      "image/png": "[encoded data removed]",
      "text/plain": [
       "<Figure size 432x288 with 1 Axes>"
      ]
     },
     "metadata": {
      "needs_background": "light"
     },
     "output_type": "display_data"
    }
   ],
   "source": [
    "from matplotlib import pyplot\n",
    "src = rasterio.open(out_raster)\n",
    "pyplot.imshow(src.read(1))\n",
    "pyplot.show()"
   ]
  }
 ],
 "metadata": {
  "kernelspec": {
   "display_name": "Python 3 (ipykernel)",
   "language": "python",
   "name": "python3"
  },
  "language_info": {
   "codemirror_mode": {
    "name": "ipython",
    "version": 3
   },
   "file_extension": ".py",
   "mimetype": "text/x-python",
   "name": "python",
   "nbconvert_exporter": "python",
   "pygments_lexer": "ipython3",
   "version": "3.9.13"
  }
 },
 "nbformat": 4,
 "nbformat_minor": 5
}
